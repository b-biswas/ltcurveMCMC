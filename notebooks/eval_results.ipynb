{
 "cells": [
  {
   "cell_type": "code",
   "execution_count": 1,
   "id": "6447afbd-2106-464c-a62e-d3f94bbd7f93",
   "metadata": {},
   "outputs": [],
   "source": [
    "import os\n",
    "import pandas as pd\n",
    "import numpy as np\n",
    "from astropy.table import Table\n",
    "import matplotlib.pyplot as plt"
   ]
  },
  {
   "cell_type": "code",
   "execution_count": 2,
   "id": "aeb747b7-c522-4330-89d8-6cb588e3e018",
   "metadata": {},
   "outputs": [],
   "source": [
    "from lcmcmc.preprocessing import add_object_band_index, preprocess_SNANA, extract_subsample\n",
    "from lcmcmc.utils import get_data_dir_path"
   ]
  },
  {
   "cell_type": "markdown",
   "id": "b9dba534-9a4f-422a-b870-744d93773661",
   "metadata": {},
   "source": [
    "# Load data"
   ]
  },
  {
   "cell_type": "code",
   "execution_count": 3,
   "id": "11349c7c-20b9-46a5-808a-0a0b7712dabc",
   "metadata": {},
   "outputs": [],
   "source": [
    "train_data_head_path = '/sps/lsst/users/bbiswas/data/kilonova_datasets/train_final_master_HEAD.FITS'\n",
    "train_data_phot_path = '/sps/lsst/users/bbiswas/data/kilonova_datasets/train_final_master_PHOT.FITS'"
   ]
  },
  {
   "cell_type": "code",
   "execution_count": 4,
   "id": "0e82ebdf-54d0-40db-a10e-a49df4ad6b0a",
   "metadata": {},
   "outputs": [],
   "source": [
    "df_head = Table.read(train_data_head_path, format='fits').to_pandas()\n",
    "df_phot = Table.read(train_data_phot_path, format='fits').to_pandas()"
   ]
  },
  {
   "cell_type": "code",
   "execution_count": 5,
   "id": "58bfda21-53d2-4d93-91a1-66bc684dedc4",
   "metadata": {},
   "outputs": [
    {
     "name": "stdout",
     "output_type": "stream",
     "text": [
      "0\n"
     ]
    },
    {
     "ename": "NameError",
     "evalue": "name 'data_dir' is not defined",
     "output_type": "error",
     "traceback": [
      "\u001b[0;31m---------------------------------------------------------------------------\u001b[0m",
      "\u001b[0;31mNameError\u001b[0m                                 Traceback (most recent call last)",
      "Cell \u001b[0;32mIn[5], line 6\u001b[0m\n\u001b[1;32m      3\u001b[0m \u001b[38;5;28;01mfor\u001b[39;00m file_num \u001b[38;5;129;01min\u001b[39;00m \u001b[38;5;28mrange\u001b[39m(\u001b[38;5;241m45\u001b[39m):\n\u001b[1;32m      4\u001b[0m     \u001b[38;5;28mprint\u001b[39m(file_num)\n\u001b[0;32m----> 6\u001b[0m     trained_features \u001b[38;5;241m=\u001b[39m pd\u001b[38;5;241m.\u001b[39mread_pickle(os\u001b[38;5;241m.\u001b[39mpath\u001b[38;5;241m.\u001b[39mjoin(data_dir, \u001b[38;5;124m\"\u001b[39m\u001b[38;5;124mtrain\u001b[39m\u001b[38;5;124m\"\u001b[39m, \u001b[38;5;124mf\u001b[39m\u001b[38;5;124m\"\u001b[39m\u001b[38;5;124mtrain_\u001b[39m\u001b[38;5;132;01m{\u001b[39;00mfile_num\u001b[38;5;132;01m}\u001b[39;00m\u001b[38;5;124m_data.pkl\u001b[39m\u001b[38;5;124m\"\u001b[39m))\n\u001b[1;32m      8\u001b[0m     \u001b[38;5;28;01mfor\u001b[39;00m index, row \u001b[38;5;129;01min\u001b[39;00m trained_features\u001b[38;5;241m.\u001b[39miterrows():\n\u001b[1;32m     10\u001b[0m         current_obj_df \u001b[38;5;241m=\u001b[39m {}\n",
      "\u001b[0;31mNameError\u001b[0m: name 'data_dir' is not defined"
     ]
    }
   ],
   "source": [
    "features_df = []\n",
    "\n",
    "for file_num in range(45):\n",
    "    print(file_num)\n",
    "    \n",
    "    trained_features = pd.read_pickle(os.path.join(data_dir, \"train\", f\"train_{file_num}_data.pkl\"))\n",
    "    \n",
    "    for index, row in trained_features.iterrows():\n",
    "\n",
    "        current_obj_df = {}\n",
    "        norm_fact = np.array([row['norm_factor']]*2000)\n",
    "\n",
    "        features = np.concatenate((row['MCMC_samples_kn'], np.expand_dims(np.mean(row['data-likelihood']['data_value'], axis=2), 2)), axis=2).reshape((2000, 7))\n",
    "\n",
    "        for band_num, band in enumerate(['g', 'r']):\n",
    "            for coeff_num in range(3):\n",
    "                current_obj_df[f\"{band}coeff{coeff_num}\"] = features[:, band_num*3+coeff_num]\n",
    "        current_obj_df[\"likelihood\"] = features[:, 6]\n",
    "\n",
    "        current_obj_df[\"g_norm\"] = norm_fact[:, 0]\n",
    "        current_obj_df[\"r_norm\"] = norm_fact[:, 1]\n",
    "\n",
    "        current_obj_df=pd.DataFrame(current_obj_df)\n",
    "\n",
    "        event_type = df_head[row['SNID']==df_head[\"SNID\"]][\"SNTYPE\"].values[0]\n",
    "\n",
    "        if event_type in [149, 150]:\n",
    "            current_obj_df[\"type\"]=1\n",
    "\n",
    "        features_df.append(current_obj_df)"
   ]
  },
  {
   "cell_type": "code",
   "execution_count": null,
   "id": "e461fe64-a1d3-4bca-a148-f2e56f388086",
   "metadata": {},
   "outputs": [],
   "source": [
    "features_df = pd.concat(features_df, ignore_index=True)"
   ]
  },
  {
   "cell_type": "code",
   "execution_count": null,
   "id": "1feb0004-f763-47ba-b3c2-44eec89bb97a",
   "metadata": {},
   "outputs": [],
   "source": [
    "predicted_scores = pd.read_pickle(os.path.join(get_data_dir_path(), \"predicted_scores.pkl\"))"
   ]
  },
  {
   "cell_type": "code",
   "execution_count": null,
   "id": "a355f08a-cdba-4b3e-b573-60caf0b60049",
   "metadata": {},
   "outputs": [],
   "source": [
    "predicted_scores"
   ]
  },
  {
   "cell_type": "code",
   "execution_count": null,
   "id": "e8693b7e-3e61-43da-8472-ceba0a443a3b",
   "metadata": {},
   "outputs": [],
   "source": [
    "result = predicted_scores.groupby(['SNID'], as_index=False).agg(\n",
    "                      {'KNe_prob':['mean','std'],'SNTYPE':'first'})\n",
    "\n",
    "result.columns = [\"SNID\", \"KNe_prob_mean\", \"KNe_prob_std\", \"SNTYPE\"]"
   ]
  },
  {
   "cell_type": "code",
   "execution_count": null,
   "id": "05db5189-adf9-4dde-8a69-35d1991ec5f2",
   "metadata": {},
   "outputs": [],
   "source": [
    "result"
   ]
  },
  {
   "cell_type": "code",
   "execution_count": null,
   "id": "cd355885-ac00-454e-9932-3f335621ed31",
   "metadata": {},
   "outputs": [],
   "source": [
    "tp = (result[\"KNe_prob_mean\"] > 0.5) & (result[\"SNTYPE\"] ==1)\n",
    "fp = (result[\"KNe_prob_mean\"] > 0.5) & (result[\"SNTYPE\"] !=1)\n",
    "fn = (result[\"KNe_prob_mean\"] < 0.5) & (result[\"SNTYPE\"] ==1)\n",
    "tn = (result[\"KNe_prob_mean\"] < 0.5) & (result[\"SNTYPE\"] !=1)"
   ]
  },
  {
   "cell_type": "code",
   "execution_count": null,
   "id": "5f8f4a8c-64bc-454e-bdf4-40d249b77c53",
   "metadata": {},
   "outputs": [],
   "source": [
    "plt.hist2d(result[tp][\"KNe_prob_mean\"], result[tp][\"KNe_prob_std\"], bins=20);\n",
    "plt.xlabel(\"Prediction mean for tp\")\n",
    "plt.ylabel(\"Prediction sigma for tp\");"
   ]
  },
  {
   "cell_type": "code",
   "execution_count": null,
   "id": "33680c76-d89a-4586-85fc-dc073df93bf9",
   "metadata": {},
   "outputs": [],
   "source": [
    "plt.hist2d(result[fp][\"KNe_prob_mean\"], result[fp][\"KNe_prob_std\"], bins=20);\n",
    "plt.xlabel(\"Prediction mean for fp\")\n",
    "plt.ylabel(\"Prediction sigma for fp\");"
   ]
  },
  {
   "cell_type": "code",
   "execution_count": null,
   "id": "70b5a97f-8a74-4aca-97c8-59684640494f",
   "metadata": {},
   "outputs": [],
   "source": [
    "plt.hist2d(result[fn][\"KNe_prob_mean\"], result[fn][\"KNe_prob_std\"], bins=30);\n",
    "plt.xlabel(\"Prediction mean for fn\")\n",
    "plt.ylabel(\"Prediction sigma for fn\");"
   ]
  },
  {
   "cell_type": "code",
   "execution_count": null,
   "id": "b1f9ec37-4316-4a72-b34c-bcaca15549ff",
   "metadata": {},
   "outputs": [],
   "source": [
    "bins = plt.hist(result[tp][\"KNe_prob_mean\"], bins=100, alpha=.5, density=True, label=\"True Positive\");\n",
    "plt.hist(result[fp][\"KNe_prob_mean\"], bins=bins[1], alpha=.5, density=True, label=\"False Positive\");\n",
    "plt.legend()\n",
    "plt.xlabel(\"Mean predicted scores\")\n",
    "plt.ylabel(\"arbitrary units\")"
   ]
  },
  {
   "cell_type": "markdown",
   "id": "8092021d-be36-44d3-aeb1-4684dc8102e3",
   "metadata": {},
   "source": [
    "# Scores violin plot"
   ]
  },
  {
   "cell_type": "code",
   "execution_count": null,
   "id": "1b28131d-cc48-4cfe-81c2-8922c9ecaaa7",
   "metadata": {},
   "outputs": [],
   "source": [
    "\n",
    "num_events_to_sample = 5"
   ]
  },
  {
   "cell_type": "code",
   "execution_count": null,
   "id": "19370570-77c5-4603-b074-a809f990b23c",
   "metadata": {},
   "outputs": [],
   "source": [
    "random_state=11\n",
    "high_scores = result[result[\"KNe_prob_mean\"]>.9]\n",
    "high_scores = high_scores.sample(num_events_to_sample, random_state=random_state)\n",
    "low_scores = result[(result[\"KNe_prob_mean\"]>.5) & (result[\"KNe_prob_mean\"]<.6)]\n",
    "low_scores = low_scores.sample(num_events_to_sample, random_state=random_state)"
   ]
  },
  {
   "cell_type": "code",
   "execution_count": null,
   "id": "a67751eb-0a9e-4d25-8b37-3d402a8c5ac6",
   "metadata": {},
   "outputs": [],
   "source": [
    "high_scores"
   ]
  },
  {
   "cell_type": "code",
   "execution_count": null,
   "id": "6155c091-4698-44e1-b77b-c4b8ae0800e5",
   "metadata": {},
   "outputs": [],
   "source": [
    "low_scores"
   ]
  },
  {
   "cell_type": "code",
   "execution_count": null,
   "id": "a7e3c5fd-0f79-4f88-9b28-909391503e94",
   "metadata": {},
   "outputs": [],
   "source": [
    "import seaborn as sns"
   ]
  },
  {
   "cell_type": "code",
   "execution_count": null,
   "id": "17cf47b9-8737-4a4a-9b5c-02c569252333",
   "metadata": {},
   "outputs": [],
   "source": [
    "high_scores_plot_df = []\n",
    "low_scores_plot_df =  []\n",
    "for sample_num in range(num_events_to_sample):\n",
    "    current_df_high = {}\n",
    "    current_df_high[\"scores\"] = predicted_scores[\"KNe_prob\"][predicted_scores[\"SNID\"]==high_scores[\"SNID\"].iloc[sample_num]].values\n",
    "    current_df_high = pd.DataFrame(current_df_high)\n",
    "    current_df_high[\"gal_num\"] = sample_num\n",
    "    print(high_scores[\"SNTYPE\"].iloc[sample_num])\n",
    "    print(\"kn\" if high_scores[\"SNTYPE\"].iloc[sample_num] else \"non-kn\")\n",
    "    current_df_high[\"type\"] = \"kn\" if high_scores[\"SNTYPE\"].iloc[sample_num] else \"non-kn\"\n",
    "    \n",
    "    high_scores_plot_df.append(current_df_high)\n",
    "    \n",
    "    current_df_low = {}\n",
    "\n",
    "    current_df_low[\"scores\"] = predicted_scores[\"KNe_prob\"][predicted_scores[\"SNID\"]==low_scores[\"SNID\"].iloc[sample_num]].values\n",
    "    current_df_low = pd.DataFrame(current_df_low)\n",
    "    current_df_low[\"gal_num\"] = sample_num + 5\n",
    "    current_df_low[\"type\"] = \"kn\" if low_scores[\"SNTYPE\"].iloc[sample_num] else \"non-kn\"\n",
    "    low_scores_plot_df.append(current_df_low)\n",
    "    \n",
    "high_scores_plot_df = pd.concat(high_scores_plot_df)\n",
    "low_scores_plot_df = pd.concat(low_scores_plot_df)"
   ]
  },
  {
   "cell_type": "code",
   "execution_count": null,
   "id": "882098a0-9009-4e47-ad66-4c3950bf65e6",
   "metadata": {},
   "outputs": [],
   "source": [
    "high_scores_plot_df"
   ]
  },
  {
   "cell_type": "code",
   "execution_count": null,
   "id": "279bd019-15a3-4342-9269-e971561eff0a",
   "metadata": {},
   "outputs": [],
   "source": [
    "sns.violinplot(data=high_scores_plot_df, x=\"gal_num\", y=\"scores\", hue=\"type\", bw=.5)"
   ]
  },
  {
   "cell_type": "code",
   "execution_count": null,
   "id": "14a616ee-e866-40f9-a4f6-f7e010443140",
   "metadata": {},
   "outputs": [],
   "source": [
    "sns.violinplot(data=low_scores_plot_df, x=\"gal_num\", y=\"scores\", hue=\"type\")"
   ]
  },
  {
   "cell_type": "code",
   "execution_count": null,
   "id": "fb097f05-63c7-4e91-a5b0-e7419a414511",
   "metadata": {},
   "outputs": [],
   "source": [
    "# This plot shows the distribution of scores for 10 events 5 with mean scores > .9 and 5 others with mean score>.5 and <.6\n",
    "sns.violinplot(data=pd.concat((low_scores_plot_df, high_scores_plot_df)), x=\"gal_num\", y=\"scores\", hue=\"type\", split=True, bw=.5)\n",
    "plt.axhline(.5, ls=\"--\", color =\"r\", label=\"classification boundary\")\n",
    "plt.legend(loc=\"lower left\")"
   ]
  },
  {
   "cell_type": "code",
   "execution_count": null,
   "id": "59e743ac-162e-4b3c-8192-4f060c46f9d9",
   "metadata": {},
   "outputs": [],
   "source": []
  },
  {
   "cell_type": "code",
   "execution_count": null,
   "id": "6f4334d1-ed6c-49e0-8fd5-fecef976442b",
   "metadata": {},
   "outputs": [],
   "source": []
  },
  {
   "cell_type": "code",
   "execution_count": null,
   "id": "215eedc1-c5f4-44b3-a82a-61603a42a328",
   "metadata": {},
   "outputs": [],
   "source": []
  },
  {
   "cell_type": "code",
   "execution_count": null,
   "id": "00702399-939f-4e5e-8fb9-50e518975ca3",
   "metadata": {},
   "outputs": [],
   "source": []
  },
  {
   "cell_type": "code",
   "execution_count": null,
   "id": "0df51dab-c84f-4624-8e40-7d4010bda1de",
   "metadata": {},
   "outputs": [],
   "source": []
  }
 ],
 "metadata": {
  "kernelspec": {
   "display_name": "lcmcmc",
   "language": "python",
   "name": "lcmcmc"
  },
  "language_info": {
   "codemirror_mode": {
    "name": "ipython",
    "version": 3
   },
   "file_extension": ".py",
   "mimetype": "text/x-python",
   "name": "python",
   "nbconvert_exporter": "python",
   "pygments_lexer": "ipython3",
   "version": "3.11.2"
  }
 },
 "nbformat": 4,
 "nbformat_minor": 5
}
