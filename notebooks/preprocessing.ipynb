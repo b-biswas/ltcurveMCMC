{
 "cells": [
  {
   "cell_type": "code",
   "execution_count": 1,
   "id": "944c8461-3a5e-403a-b267-302da7a3ac12",
   "metadata": {},
   "outputs": [],
   "source": [
    "import os\n",
    "import numpy as np\n",
    "import pandas as pd"
   ]
  },
  {
   "cell_type": "code",
   "execution_count": 2,
   "id": "2e488c89-be58-4ac9-b667-e1aabb79c574",
   "metadata": {},
   "outputs": [],
   "source": [
    "from lcmcmc.utils import get_data_dir_path"
   ]
  },
  {
   "cell_type": "code",
   "execution_count": 3,
   "id": "d2bbf7c1-cfb4-4df1-9a72-a467aa581104",
   "metadata": {},
   "outputs": [],
   "source": [
    "#Load the data for the header file and photometric file.\n",
    "path_perfect_sims_phot = \"/sps/lsst/users/bbiswas/data/kilonova_datasets/RESSPECT/RESSPECT_PERFECT_LIGHTCURVE_WITH_KN.csv\"\n",
    "path_perfect_sims_head = \"/sps/lsst/users/bbiswas/data/kilonova_datasets/RESSPECT/RESSPECT_PERFECT_HEAD_WITH_KN.csv\"\n",
    "\n",
    "df_head = pd.read_csv(path_perfect_sims_head)\n",
    "df_phot = pd.read_csv(path_perfect_sims_phot)"
   ]
  },
  {
   "cell_type": "code",
   "execution_count": 4,
   "id": "ff65efe1-624b-4356-b439-fa908f6a82a4",
   "metadata": {},
   "outputs": [],
   "source": [
    "#extract the objects as in the KN paper \n",
    "\n",
    "selected_ids = np.load(os.path.join(get_data_dir_path(), \"selected_ids.npy\"))\n",
    "\n",
    "df_head = df_head[df_head[\"SNID\"].isin(list(selected_ids))]\n",
    "df_phot = df_phot[df_phot[\"SNID\"].isin(list(selected_ids))]"
   ]
  },
  {
   "cell_type": "code",
   "execution_count": 5,
   "id": "1a284911-2d49-4afd-a89d-58815485bf0c",
   "metadata": {},
   "outputs": [],
   "source": [
    "# Use only g and r band\n",
    "\n",
    "mask = (df_phot['FLT'] == 'g') | (df_phot['FLT'] == 'r')\n",
    "df_phot = df_phot[mask]"
   ]
  },
  {
   "cell_type": "markdown",
   "id": "c07a2805-51a8-4c86-8b65-917d03828c18",
   "metadata": {},
   "source": [
    "# Preprocessing"
   ]
  },
  {
   "cell_type": "code",
   "execution_count": 6,
   "id": "9c426f6c-bd8a-42ca-9de2-38ae5ee6c05c",
   "metadata": {},
   "outputs": [],
   "source": [
    "from lcmcmc.preprocessing import add_object_band_index, preprocess_SNANA, extract_subsample"
   ]
  },
  {
   "cell_type": "code",
   "execution_count": 7,
   "id": "98a513a7-cef8-47a3-8d32-f3d2c7fc6b16",
   "metadata": {},
   "outputs": [],
   "source": [
    "df_head, df_phot=extract_subsample(df_head=df_head, df_phot=df_phot, event_type=\"random\", num_sample=50)"
   ]
  },
  {
   "cell_type": "code",
   "execution_count": 8,
   "id": "907afd1c-f886-481d-8cfc-848c0082bc8c",
   "metadata": {},
   "outputs": [
    {
     "data": {
      "text/html": [
       "<div>\n",
       "<style scoped>\n",
       "    .dataframe tbody tr th:only-of-type {\n",
       "        vertical-align: middle;\n",
       "    }\n",
       "\n",
       "    .dataframe tbody tr th {\n",
       "        vertical-align: top;\n",
       "    }\n",
       "\n",
       "    .dataframe thead th {\n",
       "        text-align: right;\n",
       "    }\n",
       "</style>\n",
       "<table border=\"1\" class=\"dataframe\">\n",
       "  <thead>\n",
       "    <tr style=\"text-align: right;\">\n",
       "      <th></th>\n",
       "      <th>SNID</th>\n",
       "      <th>MJD</th>\n",
       "      <th>FLT</th>\n",
       "      <th>FLUXCAL</th>\n",
       "      <th>FLUXCALERR</th>\n",
       "      <th>SNR</th>\n",
       "    </tr>\n",
       "  </thead>\n",
       "  <tbody>\n",
       "    <tr>\n",
       "      <th>107335</th>\n",
       "      <td>3239.0</td>\n",
       "      <td>53034.0</td>\n",
       "      <td>g</td>\n",
       "      <td>-0.253115</td>\n",
       "      <td>0.141841</td>\n",
       "      <td>-1.784502</td>\n",
       "    </tr>\n",
       "    <tr>\n",
       "      <th>107336</th>\n",
       "      <td>3239.0</td>\n",
       "      <td>53034.0</td>\n",
       "      <td>r</td>\n",
       "      <td>0.298226</td>\n",
       "      <td>0.142888</td>\n",
       "      <td>2.087133</td>\n",
       "    </tr>\n",
       "    <tr>\n",
       "      <th>107341</th>\n",
       "      <td>3239.0</td>\n",
       "      <td>53036.0</td>\n",
       "      <td>g</td>\n",
       "      <td>0.010519</td>\n",
       "      <td>0.141878</td>\n",
       "      <td>0.074138</td>\n",
       "    </tr>\n",
       "    <tr>\n",
       "      <th>107342</th>\n",
       "      <td>3239.0</td>\n",
       "      <td>53036.0</td>\n",
       "      <td>r</td>\n",
       "      <td>0.083268</td>\n",
       "      <td>0.142134</td>\n",
       "      <td>0.585842</td>\n",
       "    </tr>\n",
       "    <tr>\n",
       "      <th>107347</th>\n",
       "      <td>3239.0</td>\n",
       "      <td>53038.0</td>\n",
       "      <td>g</td>\n",
       "      <td>0.037330</td>\n",
       "      <td>0.141972</td>\n",
       "      <td>0.262939</td>\n",
       "    </tr>\n",
       "    <tr>\n",
       "      <th>...</th>\n",
       "      <td>...</td>\n",
       "      <td>...</td>\n",
       "      <td>...</td>\n",
       "      <td>...</td>\n",
       "      <td>...</td>\n",
       "      <td>...</td>\n",
       "    </tr>\n",
       "    <tr>\n",
       "      <th>5491473</th>\n",
       "      <td>10979.0</td>\n",
       "      <td>53114.0</td>\n",
       "      <td>r</td>\n",
       "      <td>0.000379</td>\n",
       "      <td>0.003937</td>\n",
       "      <td>0.096141</td>\n",
       "    </tr>\n",
       "    <tr>\n",
       "      <th>5491474</th>\n",
       "      <td>10979.0</td>\n",
       "      <td>53116.0</td>\n",
       "      <td>r</td>\n",
       "      <td>0.001423</td>\n",
       "      <td>0.003217</td>\n",
       "      <td>0.442296</td>\n",
       "    </tr>\n",
       "    <tr>\n",
       "      <th>5491475</th>\n",
       "      <td>10979.0</td>\n",
       "      <td>53118.0</td>\n",
       "      <td>r</td>\n",
       "      <td>-0.001008</td>\n",
       "      <td>0.003231</td>\n",
       "      <td>-0.312068</td>\n",
       "    </tr>\n",
       "    <tr>\n",
       "      <th>5491476</th>\n",
       "      <td>10979.0</td>\n",
       "      <td>53120.0</td>\n",
       "      <td>r</td>\n",
       "      <td>-0.000818</td>\n",
       "      <td>0.006007</td>\n",
       "      <td>-0.136134</td>\n",
       "    </tr>\n",
       "    <tr>\n",
       "      <th>5491477</th>\n",
       "      <td>10979.0</td>\n",
       "      <td>53122.0</td>\n",
       "      <td>r</td>\n",
       "      <td>-0.003019</td>\n",
       "      <td>0.002325</td>\n",
       "      <td>-1.298729</td>\n",
       "    </tr>\n",
       "  </tbody>\n",
       "</table>\n",
       "<p>8430 rows × 6 columns</p>\n",
       "</div>"
      ],
      "text/plain": [
       "            SNID      MJD FLT   FLUXCAL  FLUXCALERR       SNR\n",
       "107335    3239.0  53034.0   g -0.253115    0.141841 -1.784502\n",
       "107336    3239.0  53034.0   r  0.298226    0.142888  2.087133\n",
       "107341    3239.0  53036.0   g  0.010519    0.141878  0.074138\n",
       "107342    3239.0  53036.0   r  0.083268    0.142134  0.585842\n",
       "107347    3239.0  53038.0   g  0.037330    0.141972  0.262939\n",
       "...          ...      ...  ..       ...         ...       ...\n",
       "5491473  10979.0  53114.0   r  0.000379    0.003937  0.096141\n",
       "5491474  10979.0  53116.0   r  0.001423    0.003217  0.442296\n",
       "5491475  10979.0  53118.0   r -0.001008    0.003231 -0.312068\n",
       "5491476  10979.0  53120.0   r -0.000818    0.006007 -0.136134\n",
       "5491477  10979.0  53122.0   r -0.003019    0.002325 -1.298729\n",
       "\n",
       "[8430 rows x 6 columns]"
      ]
     },
     "execution_count": 8,
     "metadata": {},
     "output_type": "execute_result"
    }
   ],
   "source": [
    "df_phot"
   ]
  },
  {
   "cell_type": "code",
   "execution_count": 14,
   "id": "83246861-fafb-40d1-87d1-e2c29818b3be",
   "metadata": {},
   "outputs": [
    {
     "data": {
      "text/plain": [
       "[<matplotlib.lines.Line2D at 0x7f70404b0810>]"
      ]
     },
     "execution_count": 14,
     "metadata": {},
     "output_type": "execute_result"
    },
    {
     "data": {
      "image/png": "[encoded data removed]",
      "text/plain": [
       "<Figure size 640x480 with 1 Axes>"
      ]
     },
     "metadata": {},
     "output_type": "display_data"
    }
   ],
   "source": [
    "import matplotlib.pyplot as plt\n",
    "plt.plot(df_phot[\"SNR\"])"
   ]
  },
  {
   "cell_type": "code",
   "execution_count": 9,
   "id": "9701f83d-24a0-4bcc-8b68-2d108ecbb949",
   "metadata": {},
   "outputs": [],
   "source": [
    "df_phot = add_object_band_index(df_phot)"
   ]
  },
  {
   "cell_type": "code",
   "execution_count": 11,
   "id": "f7b00b24-80be-4270-b316-d7add1ef76c2",
   "metadata": {},
   "outputs": [],
   "source": [
    "# get only 20 days of data before and after maximum \n",
    "\n",
    "new_object_df = preprocess_SNANA(df_head=df_head, df_phot=df_phot)\n",
    "new_object_df = new_object_df[((new_object_df[\"time\"]>-10) & (new_object_df[\"time\"]<20))]\n",
    "new_object_df = new_object_df[new_object_df[\"time\"]%6==0]"
   ]
  },
  {
   "cell_type": "code",
   "execution_count": 12,
   "id": "e55319f3-40d7-4521-94e3-e66db866d0b2",
   "metadata": {},
   "outputs": [],
   "source": [
    "data_dir = get_data_dir_path()\n",
    "new_object_df.to_csv(os.path.join(data_dir, \"perfect_sims.csv\"))"
   ]
  },
  {
   "cell_type": "code",
   "execution_count": null,
   "id": "4d84a432-3392-43da-ae30-2b703d62790c",
   "metadata": {},
   "outputs": [],
   "source": []
  }
 ],
 "metadata": {
  "kernelspec": {
   "display_name": "lcmcmc",
   "language": "python",
   "name": "lcmcmc"
  },
  "language_info": {
   "codemirror_mode": {
    "name": "ipython",
    "version": 3
   },
   "file_extension": ".py",
   "mimetype": "text/x-python",
   "name": "python",
   "nbconvert_exporter": "python",
   "pygments_lexer": "ipython3",
   "version": "3.11.2"
  }
 },
 "nbformat": 4,
 "nbformat_minor": 5
}
