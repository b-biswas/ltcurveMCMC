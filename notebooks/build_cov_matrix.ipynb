{
 "cells": [
  {
   "cell_type": "code",
   "execution_count": 1,
   "id": "9522cc62-44be-4694-add3-3ee674ab872a",
   "metadata": {},
   "outputs": [],
   "source": [
    "import pandas as pd\n",
    "\n",
    "import numpy as np\n",
    "import matplotlib.pyplot as plt\n",
    "from random import random"
   ]
  },
  {
   "cell_type": "code",
   "execution_count": 2,
   "id": "d06f911a-a44e-4ac1-9820-d89bb28dd869",
   "metadata": {},
   "outputs": [
    {
     "data": {
      "text/plain": [
       "array(1)"
      ]
     },
     "execution_count": 2,
     "metadata": {},
     "output_type": "execute_result"
    }
   ],
   "source": [
    "np.array(1)"
   ]
  },
  {
   "cell_type": "code",
   "execution_count": 3,
   "id": "91c23eb4-93b0-40d9-943a-e43490be0493",
   "metadata": {},
   "outputs": [],
   "source": [
    "import os"
   ]
  },
  {
   "cell_type": "code",
   "execution_count": 4,
   "id": "c12eef76-eb24-427f-aa0f-5f0bd3dffc1c",
   "metadata": {},
   "outputs": [],
   "source": [
    "from lcmcmc.utils import get_data_dir_path"
   ]
  },
  {
   "cell_type": "code",
   "execution_count": 5,
   "id": "b3124d57-3ca5-44c2-b25b-a41d8d892e26",
   "metadata": {},
   "outputs": [],
   "source": [
    "from kndetect.utils import load_pcs"
   ]
  },
  {
   "cell_type": "code",
   "execution_count": 6,
   "id": "9f53b0ca-7ed7-4f94-9205-43a3cba2fddf",
   "metadata": {},
   "outputs": [
    {
     "name": "stderr",
     "output_type": "stream",
     "text": [
      "2023-08-03 16:44:08.174244: I tensorflow/core/util/port.cc:110] oneDNN custom operations are on. You may see slightly different numerical results due to floating-point round-off errors from different computation orders. To turn them off, set the environment variable `TF_ENABLE_ONEDNN_OPTS=0`.\n",
      "2023-08-03 16:44:08.179950: I tensorflow/tsl/cuda/cudart_stub.cc:28] Could not find cuda drivers on your machine, GPU will not be used.\n",
      "2023-08-03 16:44:08.251885: I tensorflow/tsl/cuda/cudart_stub.cc:28] Could not find cuda drivers on your machine, GPU will not be used.\n",
      "2023-08-03 16:44:08.253040: I tensorflow/core/platform/cpu_feature_guard.cc:182] This TensorFlow binary is optimized to use available CPU instructions in performance-critical operations.\n",
      "To enable the following instructions: AVX2 AVX512F AVX512_VNNI FMA, in other operations, rebuild TensorFlow with the appropriate compiler flags.\n",
      "2023-08-03 16:44:10.706356: W tensorflow/compiler/tf2tensorrt/utils/py_utils.cc:38] TF-TRT Warning: Could not find TensorRT\n"
     ]
    }
   ],
   "source": [
    "import tensorflow as tf\n",
    "import tensorflow_probability as tfp"
   ]
  },
  {
   "cell_type": "code",
   "execution_count": null,
   "id": "b72c3979-d748-4766-a444-b93dc44a459a",
   "metadata": {},
   "outputs": [],
   "source": []
  },
  {
   "cell_type": "markdown",
   "id": "5d71cc98-d2fe-4021-bfd3-ff724274fda0",
   "metadata": {},
   "source": [
    "# Build covariance matrix"
   ]
  },
  {
   "cell_type": "code",
   "execution_count": 7,
   "id": "df9a40c9-0175-431a-a295-02e94ef12ac9",
   "metadata": {},
   "outputs": [],
   "source": [
    "features = pd.read_csv(os.path.join(get_data_dir_path(), \"complete_lc_features.csv\"))"
   ]
  },
  {
   "cell_type": "code",
   "execution_count": 8,
   "id": "c37a3da4-3a3f-4723-a4b5-3962ef64abe0",
   "metadata": {},
   "outputs": [],
   "source": [
    "num_coeffs = 3\n",
    "bands = ['g', 'r']\n",
    "\n",
    "col_names = []\n",
    "for band in bands:\n",
    "    for coeff_num in range(num_coeffs):\n",
    "        col_names.append(f\"coeff{coeff_num+1}_{band}\")"
   ]
  },
  {
   "cell_type": "code",
   "execution_count": 10,
   "id": "49ba5089-8287-4c80-ac55-8f350bc2ce7b",
   "metadata": {},
   "outputs": [],
   "source": [
    "kn_features = features[features[\"y_true\"].values][col_names]"
   ]
  },
  {
   "cell_type": "code",
   "execution_count": 12,
   "id": "abec7743-a63c-43f4-9d06-9cbe187ec1de",
   "metadata": {},
   "outputs": [],
   "source": [
    "mu = kn_features.mean().values\n",
    "cov = kn_features.cov().values\n",
    "scale = tf.linalg.cholesky(cov)"
   ]
  },
  {
   "cell_type": "code",
   "execution_count": 20,
   "id": "a551df83-aa2b-4b63-8978-a2b066d26dbb",
   "metadata": {},
   "outputs": [
    {
     "data": {
      "text/plain": [
       "array([[ 0.03853426,  0.00159615, -0.00296206,  0.02164706,  0.00262403,\n",
       "        -0.00039953],\n",
       "       [ 0.00159615,  0.01130182, -0.00638567,  0.00315091,  0.00268014,\n",
       "        -0.00346832],\n",
       "       [-0.00296206, -0.00638567,  0.02264032, -0.00063753, -0.0031877 ,\n",
       "         0.0147698 ],\n",
       "       [ 0.02164706,  0.00315091, -0.00063753,  0.03937759,  0.00235727,\n",
       "        -0.00357844],\n",
       "       [ 0.00262403,  0.00268014, -0.0031877 ,  0.00235727,  0.01048252,\n",
       "        -0.00696544],\n",
       "       [-0.00039953, -0.00346832,  0.0147698 , -0.00357844, -0.00696544,\n",
       "         0.02520785]])"
      ]
     },
     "execution_count": 20,
     "metadata": {},
     "output_type": "execute_result"
    }
   ],
   "source": [
    "cov"
   ]
  },
  {
   "cell_type": "code",
   "execution_count": 18,
   "id": "f8d30ddd-bbe5-4429-a97f-3eb685749001",
   "metadata": {},
   "outputs": [
    {
     "data": {
      "text/plain": [
       "array([ 0.39193607,  0.14900582, -0.00897937,  0.47276811,  0.13964261,\n",
       "       -0.00791459])"
      ]
     },
     "execution_count": 18,
     "metadata": {},
     "output_type": "execute_result"
    }
   ],
   "source": [
    "mu"
   ]
  },
  {
   "cell_type": "code",
   "execution_count": 17,
   "id": "96d6bceb-47c4-47c1-9c16-783c8ab911e2",
   "metadata": {},
   "outputs": [
    {
     "data": {
      "text/plain": [
       "<tf.Tensor: shape=(6, 6), dtype=float64, numpy=\n",
       "array([[ 0.19630145,  0.        ,  0.        ,  0.        ,  0.        ,\n",
       "         0.        ],\n",
       "       [ 0.00813113,  0.10599862,  0.        ,  0.        ,  0.        ,\n",
       "         0.        ],\n",
       "       [-0.01508937, -0.05908546,  0.13755559,  0.        ,  0.        ,\n",
       "         0.        ],\n",
       "       [ 0.11027457,  0.02126683,  0.01659698,  0.16275556,  0.        ,\n",
       "         0.        ],\n",
       "       [ 0.01336737,  0.02425928, -0.01128722,  0.00340762,  0.09785864,\n",
       "         0.        ],\n",
       "       [-0.00203527, -0.03256425,  0.09316243, -0.02585272, -0.05118206,\n",
       "         0.11034524]])>"
      ]
     },
     "execution_count": 17,
     "metadata": {},
     "output_type": "execute_result"
    }
   ],
   "source": [
    "scale"
   ]
  },
  {
   "cell_type": "code",
   "execution_count": 15,
   "id": "369080c3-d7b9-4306-8e82-4a75709abc98",
   "metadata": {},
   "outputs": [],
   "source": [
    "np.save(os.path.join(get_data_dir_path(), \"scale\"), scale) "
   ]
  },
  {
   "cell_type": "code",
   "execution_count": 16,
   "id": "c2d2d33b-5339-478e-beb3-b52fcdf2b5b3",
   "metadata": {},
   "outputs": [],
   "source": [
    "np.save(os.path.join(get_data_dir_path(), \"mu\"), mu) "
   ]
  },
  {
   "cell_type": "code",
   "execution_count": null,
   "id": "a718572a-3bde-4732-b286-25ff671ebadb",
   "metadata": {},
   "outputs": [],
   "source": []
  }
 ],
 "metadata": {
  "kernelspec": {
   "display_name": "lcmcmc",
   "language": "python",
   "name": "lcmcmc"
  },
  "language_info": {
   "codemirror_mode": {
    "name": "ipython",
    "version": 3
   },
   "file_extension": ".py",
   "mimetype": "text/x-python",
   "name": "python",
   "nbconvert_exporter": "python",
   "pygments_lexer": "ipython3",
   "version": "3.11.2"
  }
 },
 "nbformat": 4,
 "nbformat_minor": 5
}
