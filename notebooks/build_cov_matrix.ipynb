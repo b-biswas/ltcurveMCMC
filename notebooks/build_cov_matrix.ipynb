{
 "cells": [
  {
   "cell_type": "code",
   "execution_count": 1,
   "id": "9522cc62-44be-4694-add3-3ee674ab872a",
   "metadata": {},
   "outputs": [],
   "source": [
    "import pandas as pd\n",
    "\n",
    "import numpy as np\n",
    "import matplotlib.pyplot as plt\n",
    "from random import random"
   ]
  },
  {
   "cell_type": "code",
   "execution_count": 2,
   "id": "d06f911a-a44e-4ac1-9820-d89bb28dd869",
   "metadata": {},
   "outputs": [
    {
     "data": {
      "text/plain": [
       "array(1)"
      ]
     },
     "execution_count": 2,
     "metadata": {},
     "output_type": "execute_result"
    }
   ],
   "source": [
    "np.array(1)"
   ]
  },
  {
   "cell_type": "code",
   "execution_count": 3,
   "id": "91c23eb4-93b0-40d9-943a-e43490be0493",
   "metadata": {},
   "outputs": [],
   "source": [
    "import os"
   ]
  },
  {
   "cell_type": "code",
   "execution_count": 4,
   "id": "c12eef76-eb24-427f-aa0f-5f0bd3dffc1c",
   "metadata": {},
   "outputs": [],
   "source": [
    "from lcmcmc.utils import get_data_dir_path"
   ]
  },
  {
   "cell_type": "code",
   "execution_count": 5,
   "id": "b3124d57-3ca5-44c2-b25b-a41d8d892e26",
   "metadata": {},
   "outputs": [],
   "source": [
    "from kndetect.utils import load_pcs"
   ]
  },
  {
   "cell_type": "code",
   "execution_count": 6,
   "id": "9f53b0ca-7ed7-4f94-9205-43a3cba2fddf",
   "metadata": {},
   "outputs": [
    {
     "name": "stderr",
     "output_type": "stream",
     "text": [
      "2023-08-21 15:13:03.641792: I tensorflow/core/util/port.cc:110] oneDNN custom operations are on. You may see slightly different numerical results due to floating-point round-off errors from different computation orders. To turn them off, set the environment variable `TF_ENABLE_ONEDNN_OPTS=0`.\n",
      "2023-08-21 15:13:05.960660: I tensorflow/tsl/cuda/cudart_stub.cc:28] Could not find cuda drivers on your machine, GPU will not be used.\n",
      "2023-08-21 15:13:08.375717: I tensorflow/tsl/cuda/cudart_stub.cc:28] Could not find cuda drivers on your machine, GPU will not be used.\n",
      "2023-08-21 15:13:08.377235: I tensorflow/core/platform/cpu_feature_guard.cc:182] This TensorFlow binary is optimized to use available CPU instructions in performance-critical operations.\n",
      "To enable the following instructions: AVX2 AVX512F AVX512_VNNI FMA, in other operations, rebuild TensorFlow with the appropriate compiler flags.\n",
      "2023-08-21 15:13:33.742428: W tensorflow/compiler/tf2tensorrt/utils/py_utils.cc:38] TF-TRT Warning: Could not find TensorRT\n"
     ]
    }
   ],
   "source": [
    "import tensorflow as tf\n",
    "import tensorflow_probability as tfp"
   ]
  },
  {
   "cell_type": "code",
   "execution_count": null,
   "id": "b72c3979-d748-4766-a444-b93dc44a459a",
   "metadata": {},
   "outputs": [],
   "source": []
  },
  {
   "cell_type": "markdown",
   "id": "5d71cc98-d2fe-4021-bfd3-ff724274fda0",
   "metadata": {},
   "source": [
    "# Build covariance matrix"
   ]
  },
  {
   "cell_type": "code",
   "execution_count": 7,
   "id": "df9a40c9-0175-431a-a295-02e94ef12ac9",
   "metadata": {},
   "outputs": [],
   "source": [
    "features = pd.read_csv(os.path.join(get_data_dir_path(), \"complete_lc_features.csv\"))"
   ]
  },
  {
   "cell_type": "code",
   "execution_count": 8,
   "id": "c37a3da4-3a3f-4723-a4b5-3962ef64abe0",
   "metadata": {},
   "outputs": [],
   "source": [
    "num_coeffs = 3\n",
    "bands = ['g', 'r']\n",
    "\n",
    "col_names = []\n",
    "for band in bands:\n",
    "    for coeff_num in range(num_coeffs):\n",
    "        col_names.append(f\"coeff{coeff_num+1}_{band}\")"
   ]
  },
  {
   "cell_type": "code",
   "execution_count": 9,
   "id": "49ba5089-8287-4c80-ac55-8f350bc2ce7b",
   "metadata": {},
   "outputs": [],
   "source": [
    "kn_features = features[features[\"y_true\"].values][col_names]"
   ]
  },
  {
   "cell_type": "code",
   "execution_count": 10,
   "id": "abec7743-a63c-43f4-9d06-9cbe187ec1de",
   "metadata": {},
   "outputs": [],
   "source": [
    "mu_kn = kn_features.mean().values\n",
    "cov_kn = kn_features.cov().values\n",
    "scale_kn = tf.linalg.cholesky(cov_kn)\n",
    "\n",
    "np.save(os.path.join(get_data_dir_path(), \"scale_kn\"), scale_kn) \n",
    "np.save(os.path.join(get_data_dir_path(), \"mu_kn\"), mu_kn) "
   ]
  },
  {
   "cell_type": "code",
   "execution_count": null,
   "id": "369080c3-d7b9-4306-8e82-4a75709abc98",
   "metadata": {},
   "outputs": [],
   "source": []
  },
  {
   "cell_type": "code",
   "execution_count": 11,
   "id": "c2d2d33b-5339-478e-beb3-b52fcdf2b5b3",
   "metadata": {},
   "outputs": [],
   "source": [
    "non_kn_features = features[~features[\"y_true\"].values][col_names]"
   ]
  },
  {
   "cell_type": "code",
   "execution_count": 14,
   "id": "a718572a-3bde-4732-b286-25ff671ebadb",
   "metadata": {},
   "outputs": [],
   "source": [
    "mu_non_kn = non_kn_features.mean().values\n",
    "cov_non_kn = non_kn_features.cov().values\n",
    "scale_non_kn = tf.linalg.cholesky(cov_non_kn)\n",
    "\n",
    "np.save(os.path.join(get_data_dir_path(), \"scale_non_kn\"), scale_non_kn) \n",
    "np.save(os.path.join(get_data_dir_path(), \"mu_non_kn\"), mu_non_kn) "
   ]
  },
  {
   "cell_type": "code",
   "execution_count": null,
   "id": "5173fc63-e9ce-42c8-a270-073388b75447",
   "metadata": {},
   "outputs": [],
   "source": []
  }
 ],
 "metadata": {
  "kernelspec": {
   "display_name": "lcmcmc",
   "language": "python",
   "name": "lcmcmc"
  },
  "language_info": {
   "codemirror_mode": {
    "name": "ipython",
    "version": 3
   },
   "file_extension": ".py",
   "mimetype": "text/x-python",
   "name": "python",
   "nbconvert_exporter": "python",
   "pygments_lexer": "ipython3",
   "version": "3.11.2"
  }
 },
 "nbformat": 4,
 "nbformat_minor": 5
}
