{
 "cells": [
  {
   "cell_type": "code",
   "execution_count": 1,
   "id": "3994be4c-197f-40ba-9e64-40642c494bea",
   "metadata": {},
   "outputs": [
    {
     "name": "stderr",
     "output_type": "stream",
     "text": [
      "2023-02-28 20:38:02.981970: W tensorflow/compiler/xla/stream_executor/platform/default/dso_loader.cc:64] Could not load dynamic library 'libcudart.so.11.0'; dlerror: libcudart.so.11.0: cannot open shared object file: No such file or directory; LD_LIBRARY_PATH: /pbs/throng/lsst/users/bbiswas/miniconda3/envs/kndmap/lib/:\n",
      "2023-02-28 20:38:06.878131: W tensorflow/compiler/xla/stream_executor/platform/default/dso_loader.cc:64] Could not load dynamic library 'libnvinfer.so.7'; dlerror: libnvinfer.so.7: cannot open shared object file: No such file or directory; LD_LIBRARY_PATH: /pbs/throng/lsst/users/bbiswas/miniconda3/envs/kndmap/lib/:\n",
      "2023-02-28 20:38:06.879143: W tensorflow/compiler/xla/stream_executor/platform/default/dso_loader.cc:64] Could not load dynamic library 'libnvinfer_plugin.so.7'; dlerror: libnvinfer_plugin.so.7: cannot open shared object file: No such file or directory; LD_LIBRARY_PATH: /pbs/throng/lsst/users/bbiswas/miniconda3/envs/kndmap/lib/:\n",
      "2023-02-28 20:38:06.879156: W tensorflow/compiler/tf2tensorrt/utils/py_utils.cc:38] TF-TRT Warning: Cannot dlopen some TensorRT libraries. If you would like to use Nvidia GPU with TensorRT, please make sure the missing libraries mentioned above are installed properly.\n"
     ]
    }
   ],
   "source": [
    "import jax\n",
    "import jax.numpy as jnp\n",
    "import tensorflow as tf\n",
    "import tensorflow_probability.substrates.jax as tfp"
   ]
  },
  {
   "cell_type": "code",
   "execution_count": 2,
   "id": "2628b786-5fd9-4e2f-a790-376cb06fa2d0",
   "metadata": {},
   "outputs": [],
   "source": [
    "def parametric_fn(t0, t_rise, t_fall, amplitude, x_range):\n",
    "    \n",
    "    time_dif = x_range - t0\n",
    "    numerator = jnp.exp(-time_dif/t_fall)\n",
    "    denominator = 1 + jnp.exp(-time_dif/t_rise)\n",
    "    predicted_lc = amplitude * ( numerator/ denominator )\n",
    "    return predicted_lc"
   ]
  },
  {
   "cell_type": "code",
   "execution_count": 3,
   "id": "1bba4445-e6a0-4573-b0b3-27a2376db5cf",
   "metadata": {},
   "outputs": [
    {
     "name": "stderr",
     "output_type": "stream",
     "text": [
      "No GPU/TPU found, falling back to CPU. (Set TF_CPP_MIN_LOG_LEVEL=0 and rerun for more info.)\n"
     ]
    }
   ],
   "source": [
    "tfd = tfp.distributions\n",
    "rng = jax.random.PRNGKey(0)\n",
    "\n",
    "def jd_model(x_range):\n",
    "\n",
    "    @tfd.JointDistributionCoroutineAutoBatched\n",
    "    def current_event():\n",
    "\n",
    "        t0 = yield tfd.Gamma(1, 1, name='t0')\n",
    "        t_rise = yield tfd.Gamma(1, 1, name='t_rise')\n",
    "        t_fall = yield tfd.Gamma(1, 1, name='t_fall')\n",
    "        amplitude = yield tfd.Gamma(1, 1, name='amp')\n",
    "\n",
    "        prediction = parametric_fn(t0, t_rise, t_fall, amplitude, x_range)\n",
    "\n",
    "        # Likelihood\n",
    "        sigma = yield tfd.Sample(tfd.Gamma(1, 1), 1, name='sigma') \n",
    "        yield tfd.Normal(prediction, sigma, name='obs')\n",
    "\n",
    "    return current_event"
   ]
  },
  {
   "cell_type": "code",
   "execution_count": 36,
   "id": "ad71cef5-36e6-4d8f-a3ba-6b2ed20857f5",
   "metadata": {},
   "outputs": [
    {
     "data": {
      "text/plain": [
       "[<matplotlib.lines.Line2D at 0x7fcc0466f910>]"
      ]
     },
     "execution_count": 36,
     "metadata": {},
     "output_type": "execute_result"
    },
    {
     "data": {
      "image/png": "[encoded data removed]",
      "text/plain": [
       "<Figure size 640x480 with 1 Axes>"
      ]
     },
     "metadata": {},
     "output_type": "display_data"
    }
   ],
   "source": [
    "import numpy as np\n",
    "import matplotlib.pyplot as plt\n",
    "\n",
    "x_ = np.linspace(-1, 10, 100)\n",
    "prob = tfd.Gamma(10, 5).prob(x_)\n",
    "plt.plot(x_, prob)"
   ]
  },
  {
   "cell_type": "code",
   "execution_count": null,
   "id": "6143348f-a07b-4f9f-b951-81ae34bb2610",
   "metadata": {},
   "outputs": [],
   "source": [
    "prob = tfd.Uniform(0, 1).prob(x_)"
   ]
  },
  {
   "cell_type": "code",
   "execution_count": null,
   "id": "00775887-79b6-4b4c-8283-3e442155c364",
   "metadata": {},
   "outputs": [],
   "source": [
    "x_range = jnp.asarray([-2, 0, 4])\n",
    "sigma = jnp.asarray([3, 5, 4], dtype=jnp.float32)\n",
    "obs = jnp.asarray([100, 200, 150], dtype=jnp.float32)\n",
    "\n",
    "model = jd_model(jnp.array(x_range))\n",
    "_ = model.sample(seed=rng)\n",
    "model.sample(5, seed=rng)"
   ]
  },
  {
   "cell_type": "code",
   "execution_count": null,
   "id": "6a11ddb3-e967-4cf3-a3c7-e0072e561b66",
   "metadata": {},
   "outputs": [],
   "source": [
    "pinned_jd = model.experimental_pin(sigma=jnp.array(sigma), obs=jnp.array(obs))"
   ]
  },
  {
   "cell_type": "code",
   "execution_count": null,
   "id": "27388f0b-f8d6-4107-b1de-e7bc503ded5d",
   "metadata": {},
   "outputs": [],
   "source": [
    "pinned_jd = model.experimental_pin(sigma=sigma, obs=obs)\n",
    "val, logp = pinned_jd.sample_and_log_weight(5, seed=rng)\n",
    "pinned_jd.unnormalized_log_prob_parts(val)"
   ]
  },
  {
   "cell_type": "markdown",
   "id": "ebbcee04-f78a-4981-93eb-972b3516a741",
   "metadata": {},
   "source": [
    "# Multi event multi channel"
   ]
  },
  {
   "cell_type": "code",
   "execution_count": null,
   "id": "ab3e4bfd-21bc-4ecb-b414-d1414ba08ed4",
   "metadata": {},
   "outputs": [],
   "source": [
    "# likelihood = tfd.Normal(0, 1).log_prob(obs)\n",
    "\n",
    "# likelihood_fn = lambda mu, sigma, y: tfd.Normal(mu, sigma).log_prob(y)\n",
    "\n",
    "# lp = likelihood_fn(0, 1, np.linspace(-100, 100, 500))\n",
    "# plt.plot(np.linspace(-100, 100, 500), lp)"
   ]
  },
  {
   "cell_type": "code",
   "execution_count": null,
   "id": "6f0406f9-de26-4622-b214-947ee82afb09",
   "metadata": {},
   "outputs": [],
   "source": [
    "# y = 1.\n",
    "# lp = likelihood_fn(np.linspace(-100, 100, 500), 1, y)"
   ]
  },
  {
   "cell_type": "markdown",
   "id": "6c38003b-6b29-4f47-8386-9165bb563564",
   "metadata": {},
   "source": [
    "### Define the joind distribution \n",
    "Note that currently there are no interband correlation incorporated in the priors"
   ]
  },
  {
   "cell_type": "code",
   "execution_count": null,
   "id": "059dff15-c67e-4ed4-a99d-95343cd2350f",
   "metadata": {},
   "outputs": [],
   "source": [
    "# hyper_prior  # shape = ()\n",
    "# hyper_prior_bands(hyper_prior)  # shape = (3, )\n",
    "# prior_bands_and_events  # shape = (3, num_events)\n",
    "\n",
    "# hyper_prior_events  # shape=(1, num_events)\n",
    "# prior_bands_and_events = hyper_prior_bands * hyper_prior_events  \n",
    "# prior_bands_and_events  # shape = (3, num_events)"
   ]
  },
  {
   "cell_type": "code",
   "execution_count": null,
   "id": "e8ccc23b-a994-4a3c-8000-c1b6479b44bc",
   "metadata": {},
   "outputs": [],
   "source": [
    "@tfd.JointDistributionCoroutineAutoBatched\n",
    "def prior():\n",
    "    hyper_prior = yield tfd.Normal(0., 10)\n",
    "    prior = yield tfd.Sample(tfd.Normal(hyper_prior, 1), 3)\n",
    "    prior_bands_and_events = yield tfd.Sample(tfd.Normal(prior, .5), num_events)"
   ]
  },
  {
   "cell_type": "code",
   "execution_count": 5,
   "id": "2ee76886-238d-47cc-8f3e-3e2a5d35eae1",
   "metadata": {},
   "outputs": [],
   "source": [
    "# Disdistribution with interband correlations\n",
    "# TODO: find the actual correlation between the bands.\n",
    "\n",
    "def jd_model(index, x_range):\n",
    "\n",
    "    assert index.shape[0] == x_range.shape[0]\n",
    "\n",
    "    num_channel = np.unique(index[:, 0]).shape[0]\n",
    "    num_event = np.unique(index[:, 1]).shape[0]\n",
    "\n",
    "    @tfd.JointDistributionCoroutineAutoBatched\n",
    "    def current_event():\n",
    "        # define priors\n",
    "        t0 = yield tfd.Sample(tfd.Normal(0, .25), (num_channel, num_event), name=\"t0\")\n",
    "\n",
    "        t_rise_hyper_prior = yield tfd.Sample(tfd.Uniform(.25, 5), (num_event), name=\"t_rise_hyper\")\n",
    "        t_rise = yield tfd.Sample(tfd.Uniform(t_rise_hyper_prior/2, t_rise_hyper_prior + t_rise_hyper_prior/2), (num_channel), name=\"t_rise\")\n",
    "\n",
    "        t_fall_hyper_prior = yield tfd.Sample(tfd.Uniform(.25, 10), (num_event), name=\"t_fall_hyper_prior\")\n",
    "        t_fall_= yield tfd.Sample(tfd.Uniform(t_fall_hyper_prior/2, t_fall_hyper_prior + t_fall_hyper_prior/2), (num_channel), name=\"t_fall_\")\n",
    "        \n",
    "        t_fall = t_rise + t_fall_\n",
    "\n",
    "        amplitude = yield tfd.Sample(tfd.Gamma(2, .5), (num_channel, num_event), name=\"amp\")\n",
    "    \n",
    "        # evaluate the oredictions\n",
    "        #note index changes because of hyperpriors\n",
    "        prediction = parametric_fn(\n",
    "            t0[index[:, 0], index[:, 1]],\n",
    "            t_rise[index[:, 1], index[:, 0]],\n",
    "            t_fall[index[:, 1], index[:, 0]],\n",
    "            amplitude[index[:, 0], index[:, 1]], \n",
    "            x_range,\n",
    "        )\n",
    "\n",
    "        # Likelihood\n",
    "        sigma = yield tfd.Sample(tfd.Gamma(1, 1), 1, name=\"sigma\")\n",
    "        yield tfd.Normal(prediction, sigma, name=\"obs\")\n",
    "\n",
    "    return current_event"
   ]
  },
  {
   "cell_type": "code",
   "execution_count": 6,
   "id": "83df1ca9-fa2e-4075-9e01-60e9d41e2d27",
   "metadata": {},
   "outputs": [],
   "source": [
    "# create toy example\n",
    "\n",
    "index = np.asarray([\n",
    "    [0, 0],\n",
    "    [0, 0],\n",
    "    [1, 0],\n",
    "    [1, 0],\n",
    "    [1, 0],\n",
    "    [1, 0],\n",
    "    [0, 1],\n",
    "    [0, 1],\n",
    "    [0, 1],\n",
    "    [0, 1],\n",
    "    [1, 1],\n",
    "    [1, 1],\n",
    "    [1, 1],\n",
    "    [1, 1],\n",
    "])\n",
    "\n",
    "x_range = np.asarray([-2, 0, -2, 0, 2, 4, -2, 0, 2, 4, -2, 0, 2, 4])\n",
    "\n",
    "observed_sigma = jnp.array(np.asarray([10, 40, 10, 40, 30, 25,10, 40, 30, 25,10, 40, 30, 25])/2000, dtype=jnp.float32)\n",
    "observed_value = jnp.array(np.asarray([200, 2000, 200, 2000, 1500, 500, 400, 2000, 1000, 400, 100, 2000, 500, 200])/2000, dtype=jnp.float32)\n",
    "\n",
    "jd = jd_model(index, x_range)"
   ]
  },
  {
   "cell_type": "code",
   "execution_count": 7,
   "id": "73bc8b4e-1a6b-47c0-b53b-b736b54ef644",
   "metadata": {},
   "outputs": [
    {
     "data": {
      "text/plain": [
       "StructTuple(\n",
       "  t0=Array([[-0.34559786, -0.35756034],\n",
       "           [-0.01132559,  0.36089513]], dtype=float32),\n",
       "  t_rise_hyper=Array([2.9231048, 1.2182004], dtype=float32),\n",
       "  t_rise=Array([[2.918316 , 3.851437 ],\n",
       "           [0.6242849, 1.5033934]], dtype=float32),\n",
       "  t_fall_hyper_prior=Array([3.1811237, 9.85458  ], dtype=float32),\n",
       "  t_fall_=Array([[ 4.194861 ,  3.937777 ],\n",
       "           [10.870595 ,  7.6942573]], dtype=float32),\n",
       "  amp=Array([[7.961033 , 7.0254993],\n",
       "           [3.5211155, 4.358237 ]], dtype=float32),\n",
       "  sigma=Array([1.0040799], dtype=float32),\n",
       "  obs=Array([ 4.050764  ,  3.149367  , -0.4338447 , -0.16156828,  1.9421455 ,\n",
       "            0.4561622 ,  0.9968735 ,  4.793054  ,  6.1170206 ,  4.887946  ,\n",
       "           -1.6906066 ,  2.3691437 ,  2.6399376 ,  5.0137634 ], dtype=float32)\n",
       ")"
      ]
     },
     "execution_count": 7,
     "metadata": {},
     "output_type": "execute_result"
    }
   ],
   "source": [
    "jd.sample(seed=rng)"
   ]
  },
  {
   "cell_type": "code",
   "execution_count": 8,
   "id": "03813fc0-8ab1-46e4-adf1-a28f2fdcfacb",
   "metadata": {},
   "outputs": [],
   "source": [
    "# pinned_jd = jd.experimental_pin(\n",
    "#         sigma=observed_sigma, \n",
    "#         obs=observed_value,\n",
    "# )\n",
    "\n",
    "# run_mcmc = jax.jit(\n",
    "#     lambda seed: tfp.experimental.mcmc.windowed_adaptive_nuts(\n",
    "#         1000, \n",
    "#         pinned_jd, \n",
    "#         n_chains=4, \n",
    "#         num_adaptation_steps=1000, \n",
    "#         seed=seed,\n",
    "#     )\n",
    "# )\n",
    "\n",
    "# rng, sample_rng = jax.random.split(rng, 2)\n",
    "# mcmc_samples, sampler_stats = run_mcmc(sample_rng)"
   ]
  },
  {
   "cell_type": "code",
   "execution_count": 9,
   "id": "008396a7-89d5-4f7f-a17f-df922ed803fb",
   "metadata": {},
   "outputs": [],
   "source": [
    "run_mcmc = jax.jit(\n",
    "    lambda seed: tfp.experimental.mcmc.windowed_adaptive_nuts(\n",
    "        100, \n",
    "        jd, \n",
    "        n_chains=4, \n",
    "        num_adaptation_steps=100, \n",
    "        seed=seed,\n",
    "        sigma=observed_sigma, \n",
    "        obs=observed_value,\n",
    "    )\n",
    ")\n",
    "\n",
    "rng, sample_rng = jax.random.split(rng, 2)\n",
    "mcmc_samples, sampler_stats = run_mcmc(sample_rng)"
   ]
  },
  {
   "cell_type": "code",
   "execution_count": 10,
   "id": "f2ea8580-8bf6-4276-aa52-13b019a82399",
   "metadata": {},
   "outputs": [],
   "source": [
    "# pinned_jd = jd.experimental_pin(\n",
    "#         sigma=observed_sigma, \n",
    "#         obs=observed_value,\n",
    "# )\n",
    "\n",
    "# rng, sample_rng = jax.random.split(rng, 2)\n",
    "# result = pinned_jd.sample_and_log_weight(seed=sample_rng)"
   ]
  },
  {
   "cell_type": "code",
   "execution_count": 11,
   "id": "a4db8e4c-92e1-474c-bf43-2e3b5d4a7ea3",
   "metadata": {},
   "outputs": [],
   "source": [
    "\n",
    "# def gen_pred(index, x_range, param):\n",
    "    \n",
    "#     return parametric_fn(\n",
    "#             param.t0[index[:, 0], index[:, 1]],\n",
    "#             param.t_rise[index[:, 0], index[:, 1]],\n",
    "#             param.t_fall[index[:, 0], index[:, 1]],\n",
    "#             param.amp[index[:, 0], index[:, 1]], \n",
    "#             x_range,\n",
    "#         )\n",
    "\n",
    "# gen_pred(index, x_range, result[0])"
   ]
  },
  {
   "cell_type": "markdown",
   "id": "66efdec7-d428-4221-91f6-6de77fc58f2c",
   "metadata": {},
   "source": [
    "### plot posterior for event 0, band 0"
   ]
  },
  {
   "cell_type": "code",
   "execution_count": 12,
   "id": "230a249d-48f7-4794-bdf4-f83fc78fbf4c",
   "metadata": {},
   "outputs": [
    {
     "data": {
      "text/plain": [
       "Text(0, 0.5, 'Aribitrary units')"
      ]
     },
     "execution_count": 12,
     "metadata": {},
     "output_type": "execute_result"
    },
    {
     "data": {
      "image/png": "[encoded data removed]",
      "text/plain": [
       "<Figure size 640x480 with 1 Axes>"
      ]
     },
     "metadata": {},
     "output_type": "display_data"
    }
   ],
   "source": [
    "plt.hist(np.ravel(mcmc_samples.t0[..., 0, 0]), 100);\n",
    "plt.xlabel(\"$t_{0}$\", fontsize=20)\n",
    "plt.ylabel(\"Aribitrary units\", fontsize=15)"
   ]
  },
  {
   "cell_type": "code",
   "execution_count": 13,
   "id": "26719266-7bb4-4de5-aed3-7821698468fd",
   "metadata": {},
   "outputs": [
    {
     "data": {
      "text/plain": [
       "Text(0, 0.5, 'Aribitrary units')"
      ]
     },
     "execution_count": 13,
     "metadata": {},
     "output_type": "execute_result"
    },
    {
     "data": {
      "image/png": "[encoded data removed]",
      "text/plain": [
       "<Figure size 640x480 with 1 Axes>"
      ]
     },
     "metadata": {},
     "output_type": "display_data"
    }
   ],
   "source": [
    "plt.hist(np.ravel(mcmc_samples.amp[..., 0, 0]), 100);\n",
    "plt.xlabel(\"$amp$\", fontsize=20)\n",
    "plt.ylabel(\"Aribitrary units\", fontsize=15)"
   ]
  },
  {
   "cell_type": "code",
   "execution_count": 14,
   "id": "b0d69329-17e9-4b79-82e4-f887cfb253be",
   "metadata": {},
   "outputs": [
    {
     "data": {
      "text/plain": [
       "Text(0, 0.5, 'Aribitrary units')"
      ]
     },
     "execution_count": 14,
     "metadata": {},
     "output_type": "execute_result"
    },
    {
     "data": {
      "image/png": "[encoded data removed]",
      "text/plain": [
       "<Figure size 640x480 with 1 Axes>"
      ]
     },
     "metadata": {},
     "output_type": "display_data"
    }
   ],
   "source": [
    "plt.hist(np.ravel(mcmc_samples.t_rise[..., 0, 0]), 100);\n",
    "plt.xlabel(\"$t_{rise}$\", fontsize=20)\n",
    "plt.ylabel(\"Aribitrary units\", fontsize=15)"
   ]
  },
  {
   "cell_type": "code",
   "execution_count": 15,
   "id": "a2221b84-0b4f-43b3-aa5f-ba20bf8c58c2",
   "metadata": {},
   "outputs": [
    {
     "data": {
      "text/plain": [
       "Text(0, 0.5, 'Aribitrary units')"
      ]
     },
     "execution_count": 15,
     "metadata": {},
     "output_type": "execute_result"
    },
    {
     "data": {
      "image/png": "[encoded data removed]",
      "text/plain": [
       "<Figure size 640x480 with 1 Axes>"
      ]
     },
     "metadata": {},
     "output_type": "display_data"
    }
   ],
   "source": [
    "plt.hist(np.ravel(mcmc_samples.t_fall_[..., 0, 0] + mcmc_samples.t_rise[..., 0, 0]), 100);\n",
    "plt.xlabel(\"$t_{fall}$\", fontsize=20)\n",
    "plt.ylabel(\"Aribitrary units\", fontsize=15)"
   ]
  },
  {
   "cell_type": "code",
   "execution_count": 16,
   "id": "0f7e1c1f-bcdd-4450-b55a-c31c581823dc",
   "metadata": {},
   "outputs": [
    {
     "data": {
      "text/plain": [
       "(100, 4, 2, 2)"
      ]
     },
     "execution_count": 16,
     "metadata": {},
     "output_type": "execute_result"
    }
   ],
   "source": [
    "np.shape(mcmc_samples.t0)"
   ]
  },
  {
   "cell_type": "markdown",
   "id": "a0bc7859-3732-4558-81d8-bc659432c17e",
   "metadata": {},
   "source": [
    "### Plot the posterior of the predicted lightcurve"
   ]
  },
  {
   "cell_type": "code",
   "execution_count": 17,
   "id": "de308a9a-4e38-41d5-9c0f-9d5cac95507d",
   "metadata": {},
   "outputs": [],
   "source": [
    "t0 = np.mean(mcmc_samples.t0[..., 0, 0])\n",
    "t_rise = np.mean(mcmc_samples.t_rise[..., 0, 0])\n",
    "t_fall_ = np.mean(mcmc_samples.t_fall_[..., 0, 0])\n",
    "t_fall = t_fall_ + t_rise\n",
    "amp = np.mean(mcmc_samples.amp[..., 0, 0])"
   ]
  },
  {
   "cell_type": "code",
   "execution_count": 18,
   "id": "b1487d2a-eed4-4be7-8ed4-e19c12b2863d",
   "metadata": {},
   "outputs": [],
   "source": [
    "predictions = parametric_fn(t0, t_rise, t_fall, amp, np.arange(-10,30, .1))"
   ]
  },
  {
   "cell_type": "code",
   "execution_count": 19,
   "id": "ae5657ca-5da3-4593-8281-cde45d785d45",
   "metadata": {},
   "outputs": [
    {
     "data": {
      "text/plain": [
       "<ErrorbarContainer object of 3 artists>"
      ]
     },
     "execution_count": 19,
     "metadata": {},
     "output_type": "execute_result"
    },
    {
     "data": {
      "image/png": "[encoded data removed]",
      "text/plain": [
       "<Figure size 640x480 with 1 Axes>"
      ]
     },
     "metadata": {},
     "output_type": "display_data"
    }
   ],
   "source": [
    "#plt.plot(np.arange(-10,30, .1), predictions)\n",
    "for i in range(100):\n",
    "    for j in range(4):\n",
    "        t0 = mcmc_samples.t0[i, j, 0, 0]\n",
    "        t_rise = mcmc_samples.t_rise[i, j, 0, 0]\n",
    "        t_fall_ = mcmc_samples.t_fall_[i, j, 0, 0]\n",
    "        t_fall = t_fall_ + t_rise\n",
    "        amp = mcmc_samples.amp[i, j, 0, 0]\n",
    "        predictions = parametric_fn(t0, t_rise, t_fall, amp, np.arange(-10,30, .1))\n",
    "        plt.plot(np.arange(-10,30, .1), predictions, alpha=.01, color='blue')\n",
    "plt.errorbar([-2, 0], np.array([200, 2000])/2000, yerr=np.array([10, 40])/2000, fmt=\"o\")"
   ]
  },
  {
   "cell_type": "code",
   "execution_count": 20,
   "id": "07655f6f-7bbd-497f-94a4-40006f9f35cf",
   "metadata": {},
   "outputs": [
    {
     "data": {
      "text/plain": [
       "<ErrorbarContainer object of 3 artists>"
      ]
     },
     "execution_count": 20,
     "metadata": {},
     "output_type": "execute_result"
    },
    {
     "data": {
      "image/png": "[encoded data removed]",
      "text/plain": [
       "<Figure size 640x480 with 1 Axes>"
      ]
     },
     "metadata": {},
     "output_type": "display_data"
    }
   ],
   "source": [
    "#plt.plot(np.arange(-10,30, .1), predictions)\n",
    "for i in range(100):\n",
    "    for j in range(4):\n",
    "        t0 = mcmc_samples.t0[i, j, 1, 0]\n",
    "        t_rise = mcmc_samples.t_rise[i, j, 0, 1]\n",
    "        t_fall_ = mcmc_samples.t_fall_[i, j, 0, 1]\n",
    "        t_fall = t_fall_ + t_rise\n",
    "        amp = mcmc_samples.amp[i, j, 1, 0]\n",
    "    predictions = parametric_fn(t0, t_rise, t_fall, amp, np.arange(-10,30, .1))\n",
    "    plt.plot(np.arange(-10,30, .1), predictions, alpha=.01, color='blue')\n",
    "plt.errorbar([-2, 0, 2], np.array([200, 2000, 1500])/2000, yerr=np.array([10, 40, 30])/2000, fmt=\"o\")"
   ]
  },
  {
   "cell_type": "code",
   "execution_count": null,
   "id": "eb22bf11-ffe6-4ed4-9fe0-60924d617b1a",
   "metadata": {},
   "outputs": [],
   "source": []
  },
  {
   "cell_type": "code",
   "execution_count": null,
   "id": "a95c5412-9308-4fbe-9edb-63fb97096285",
   "metadata": {},
   "outputs": [],
   "source": []
  },
  {
   "cell_type": "code",
   "execution_count": null,
   "id": "9c8c0ccf-e8cd-4206-8241-669142884fc1",
   "metadata": {},
   "outputs": [],
   "source": []
  },
  {
   "cell_type": "code",
   "execution_count": null,
   "id": "aa0aaf39-1df4-4d4a-8b21-cd4ecee858e7",
   "metadata": {},
   "outputs": [],
   "source": [
    "import astropy\n",
    "from astropy.table import Table"
   ]
  },
  {
   "cell_type": "code",
   "execution_count": null,
   "id": "e8b93fdf-4c49-4e08-8b88-2d15d0765d32",
   "metadata": {},
   "outputs": [],
   "source": [
    "train_data_head_path = '/sps/lsst/users/bbiswas/data/kilonova_datasets/train_final_master_HEAD.FITS'\n",
    "train_data_phot_path = '/sps/lsst/users/bbiswas/data/kilonova_datasets/train_final_master_PHOT.FITS'"
   ]
  },
  {
   "cell_type": "code",
   "execution_count": null,
   "id": "4440d2e2-7e54-4364-a7a5-199b5f91bdf5",
   "metadata": {},
   "outputs": [],
   "source": [
    "df_header = Table.read(train_data_head_path, format='fits').to_pandas()\n",
    "df_phot = Table.read(train_data_phot_path, format='fits').to_pandas()"
   ]
  },
  {
   "cell_type": "code",
   "execution_count": null,
   "id": "2587e6b4-0c73-44a0-a700-1fb9004192f1",
   "metadata": {},
   "outputs": [],
   "source": [
    "df_phot"
   ]
  },
  {
   "cell_type": "code",
   "execution_count": null,
   "id": "34170bb7-bff5-4b82-a6d0-350c0b941e2f",
   "metadata": {},
   "outputs": [],
   "source": [
    "object_index = []\n",
    "last_object = 0\n",
    "count = 0\n",
    "for i in range(len(df_phot)):\n",
    "\n",
    "    if i == 0:\n",
    "        last_object = df_phot['SNID'].iloc[0]\n",
    "\n",
    "    if df_phot['SNID'].iloc[i] == last_object:\n",
    "        object_index.append(count)\n",
    "    else:\n",
    "        last_object = df_phot['SNID'].iloc[i]\n",
    "        count = count+1\n",
    "        object_index.append(count)"
   ]
  },
  {
   "cell_type": "code",
   "execution_count": null,
   "id": "6833fa61-35ac-4a77-bcef-8f267ff534ed",
   "metadata": {},
   "outputs": [],
   "source": [
    "len(np.unique(df_phot['SNID']))"
   ]
  },
  {
   "cell_type": "code",
   "execution_count": null,
   "id": "e081e9e2-b83c-4e7f-ab06-389f906d3f63",
   "metadata": {},
   "outputs": [],
   "source": [
    "band_index = (df_phot['FLT'] == b'g').values*1"
   ]
  },
  {
   "cell_type": "code",
   "execution_count": null,
   "id": "f48d89d1-46e3-430b-8f10-03e41d261252",
   "metadata": {},
   "outputs": [],
   "source": [
    "len(band_index)"
   ]
  },
  {
   "cell_type": "code",
   "execution_count": null,
   "id": "4a20bd22-c116-4a99-85ea-d281ab0d1acd",
   "metadata": {},
   "outputs": [],
   "source": [
    "len(object_index)"
   ]
  },
  {
   "cell_type": "code",
   "execution_count": null,
   "id": "4e9f9068-a56b-4344-83ac-b4fdf6dad856",
   "metadata": {},
   "outputs": [],
   "source": [
    "index = np.zeros((len(object_index),2), dtype=np.int32)"
   ]
  },
  {
   "cell_type": "code",
   "execution_count": null,
   "id": "23f19a25-f184-46a2-b50a-523ebe641e22",
   "metadata": {},
   "outputs": [],
   "source": [
    "index[:, 0] = object_index"
   ]
  },
  {
   "cell_type": "code",
   "execution_count": null,
   "id": "22099d97-c2c0-4cc0-b18b-503199073011",
   "metadata": {},
   "outputs": [],
   "source": [
    "index[:, 1] = band_index"
   ]
  },
  {
   "cell_type": "code",
   "execution_count": null,
   "id": "3b0a8dba-7435-44fe-a38f-fa86beb68604",
   "metadata": {},
   "outputs": [],
   "source": [
    "index"
   ]
  },
  {
   "cell_type": "code",
   "execution_count": null,
   "id": "e3726150-d287-47d3-8662-45bc127d3022",
   "metadata": {},
   "outputs": [],
   "source": [
    "df_phot[\"object_index\"] = object_index\n",
    "df_phot[\"band_index\"] = band_index"
   ]
  },
  {
   "cell_type": "code",
   "execution_count": null,
   "id": "bb87b981-7f21-4b2f-8aa6-f4a78819ae4e",
   "metadata": {},
   "outputs": [],
   "source": [
    "df_phot"
   ]
  },
  {
   "cell_type": "code",
   "execution_count": null,
   "id": "4a5339e4-9398-4d24-9bc0-eafe23ffae7d",
   "metadata": {},
   "outputs": [],
   "source": [
    "df_header"
   ]
  },
  {
   "cell_type": "code",
   "execution_count": null,
   "id": "2d7d25f3-401b-4652-a38b-545e510b5715",
   "metadata": {},
   "outputs": [],
   "source": [
    "import pandas as pd\n",
    "\n",
    "new_object_dfs = []\n",
    "\n",
    "count = 0\n",
    "for object_id in df_header['SNID']:\n",
    "\n",
    "    object_df = df_phot[df_phot[\"SNID\"] == object_id]\n",
    "    r_band_data = object_df[object_df['FLT'] == b'r']\n",
    "    \n",
    "    max_flux_loc = np.argmax(r_band_data[\"FLUXCAL\"])\n",
    "    max_flux = r_band_data['FLUXCAL'].iloc[max_flux_loc]\n",
    "    max_flux_time = r_band_data['MJD'].iloc[max_flux_loc]\n",
    "    \n",
    "    new_time = object_df['MJD'] - max_flux_time\n",
    "    new_flux = object_df['FLUXCAL'] / max_flux\n",
    "    new_flux_err = object_df['FLUXCALERR'] / max_flux\n",
    "        \n",
    "    current_object_new_df = {}\n",
    "    current_object_new_df['SNID'] = object_df['SNID']\n",
    "    current_object_new_df['time'] = new_time\n",
    "    current_object_new_df['flux'] = new_flux\n",
    "    current_object_new_df['fluxerr'] = new_flux_err\n",
    "    current_object_new_df['object_index'] = object_df['object_index']\n",
    "    current_object_new_df['band_index'] = object_df['band_index']\n",
    "    current_object_new_df['norm_factor'] = max_flux\n",
    "    \n",
    "    current_object_new_df = pd.DataFrame.from_dict(current_object_new_df)\n",
    "\n",
    "    new_object_dfs.append(current_object_new_df)\n",
    "    count+=1\n",
    "    \n",
    "    if count ==1000:\n",
    "        break\n",
    "\n",
    "    \n",
    "new_object_dfs = pd.concat(new_object_dfs, axis=0, ignore_index=True)"
   ]
  },
  {
   "cell_type": "code",
   "execution_count": null,
   "id": "177da707-618f-49b7-a145-5a7bbbad7f1d",
   "metadata": {},
   "outputs": [],
   "source": [
    "new_object_dfs"
   ]
  },
  {
   "cell_type": "code",
   "execution_count": null,
   "id": "92b070d5-dd51-4465-9bd1-940ae495e253",
   "metadata": {},
   "outputs": [],
   "source": [
    "new_object_dfs.to_csv(\"mcmc_dataset.csv\")"
   ]
  },
  {
   "cell_type": "code",
   "execution_count": null,
   "id": "1eeb85d1-a6a0-4420-8cb7-e4faad53898e",
   "metadata": {},
   "outputs": [],
   "source": [
    "index = np.zeros((len(new_object_dfs), 2), dtype=np.int32)\n",
    "\n",
    "index[:, 0] = new_object_dfs[\"object_index\"]\n",
    "index[:, 1] = new_object_dfs[\"band_index\"]\n",
    "\n",
    "x_range = np.asarray(new_object_dfs[\"time\"])\n",
    "\n",
    "observed_sigma = jnp.array(np.asarray(new_object_dfs[\"flux\"]), dtype=jnp.float32)\n",
    "observed_value = jnp.array(np.asarray(new_object_dfs[\"fluxerr\"]), dtype=jnp.float32)\n",
    "\n",
    "jd = jd_model(index, x_range)\n",
    "\n",
    "run_mcmc = jax.jit(\n",
    "    lambda seed: tfp.experimental.mcmc.windowed_adaptive_nuts(\n",
    "        100, \n",
    "        jd, \n",
    "        n_chains=4, \n",
    "        num_adaptation_steps=100, \n",
    "        seed=seed,\n",
    "        sigma=observed_sigma, \n",
    "        obs=observed_value,\n",
    "    )\n",
    ")\n",
    "\n",
    "rng, sample_rng = jax.random.split(rng, 2)\n",
    "mcmc_samples, sampler_stats = run_mcmc(sample_rng)"
   ]
  },
  {
   "cell_type": "code",
   "execution_count": null,
   "id": "adc3357d-cf4c-4db0-abce-e4ebcc7e45be",
   "metadata": {},
   "outputs": [],
   "source": []
  }
 ],
 "metadata": {
  "kernelspec": {
   "display_name": "kndmap",
   "language": "python",
   "name": "kndmap"
  },
  "language_info": {
   "codemirror_mode": {
    "name": "ipython",
    "version": 3
   },
   "file_extension": ".py",
   "mimetype": "text/x-python",
   "name": "python",
   "nbconvert_exporter": "python",
   "pygments_lexer": "ipython3",
   "version": "3.8.15"
  }
 },
 "nbformat": 4,
 "nbformat_minor": 5
}
